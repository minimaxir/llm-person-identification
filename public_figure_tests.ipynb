{
 "cells": [
  {
   "cell_type": "code",
   "execution_count": 1,
   "metadata": {},
   "outputs": [
    {
     "data": {
      "text/plain": [
       "True"
      ]
     },
     "execution_count": 1,
     "metadata": {},
     "output_type": "execute_result"
    }
   ],
   "source": [
    "import asyncio\n",
    "import base64\n",
    "import os\n",
    "from io import BytesIO\n",
    "\n",
    "import httpx\n",
    "import orjson\n",
    "import polars as pl\n",
    "from dotenv import load_dotenv\n",
    "from PIL import Image\n",
    "\n",
    "load_dotenv()"
   ]
  },
  {
   "cell_type": "code",
   "execution_count": 2,
   "metadata": {},
   "outputs": [],
   "source": [
    "assert os.getenv(\"OPENROUTER_API_KEY\"), \"OpenRouter API key is not defined in .env.\"\n",
    "\n",
    "API_URL = \"https://openrouter.ai/api/v1/chat/completions\"\n",
    "\n",
    "headers = {\n",
    "    \"Authorization\": f\"Bearer {os.getenv('OPENROUTER_API_KEY')}\",\n",
    "    \"Content-Type\": \"application/json\",\n",
    "}"
   ]
  },
  {
   "cell_type": "markdown",
   "metadata": {},
   "source": [
    "Test Barack Obama. [Image source](https://openverse.org/image/0d5242d2-8838-47a0-88ab-a3ab59a5f75f?q=barack+obama&p=1)\n"
   ]
  },
  {
   "cell_type": "code",
   "execution_count": 3,
   "metadata": {},
   "outputs": [
    {
     "data": {
      "text/plain": [
       "(1024, 768)"
      ]
     },
     "execution_count": 3,
     "metadata": {},
     "output_type": "execute_result"
    }
   ],
   "source": [
    "img = Image.open(\"470562794_2472fada41_b.jpg\")\n",
    "img.size"
   ]
  },
  {
   "cell_type": "markdown",
   "metadata": {},
   "source": [
    "Resize image such that its maximum width/height is 768px, since that's what Gemini and other LLM APIs are based upon.\n"
   ]
  },
  {
   "cell_type": "code",
   "execution_count": 4,
   "metadata": {},
   "outputs": [],
   "source": [
    "def resize_image_maintain_aspect(img, max_size=768):\n",
    "    \"\"\"\n",
    "    Resize an image so that its maximum dimension (width or height) is max_size\n",
    "    while maintaining the aspect ratio.\n",
    "    \"\"\"\n",
    "\n",
    "    # Get current dimensions\n",
    "    width, height = img.size\n",
    "\n",
    "    # Calculate the scaling factor\n",
    "    if width > height:\n",
    "        # Width is the larger dimension\n",
    "        scale_factor = max_size / width\n",
    "    else:\n",
    "        # Height is the larger dimension\n",
    "        scale_factor = max_size / height\n",
    "\n",
    "    # Calculate new dimensions\n",
    "    new_width = int(width * scale_factor)\n",
    "    new_height = int(height * scale_factor)\n",
    "\n",
    "    # Resize the image\n",
    "    resized_img = img.resize((new_width, new_height), Image.Resampling.LANCZOS)\n",
    "\n",
    "    # resized_img.save(\"test.png\")\n",
    "    return resized_img\n",
    "\n",
    "\n",
    "def img_to_base64_str(img):\n",
    "    img = resize_image_maintain_aspect(img)\n",
    "\n",
    "    buffered = BytesIO()\n",
    "    img.save(buffered, format=\"PNG\")\n",
    "    img_base64 = base64.b64encode(buffered.getvalue())\n",
    "    img_base64_str = img_base64.decode(\"utf-8\")\n",
    "    return img_base64_str\n"
   ]
  },
  {
   "cell_type": "code",
   "execution_count": 5,
   "metadata": {},
   "outputs": [
    {
     "data": {
      "text/plain": [
       "'iVBORw0KGgoAAAANSUhEUgAAAwAAAAJACAIAAAC1zJYBAAEAAElEQVR4nHz9+a9tW3odhs1+rbX3ae69771qXrGqyCJVYqkXTVES'"
      ]
     },
     "execution_count": 5,
     "metadata": {},
     "output_type": "execute_result"
    }
   ],
   "source": [
    "img_base64_str = img_to_base64_str(img)\n",
    "img_base64_str[0:100]"
   ]
  },
  {
   "cell_type": "code",
   "execution_count": null,
   "metadata": {},
   "outputs": [],
   "source": [
    "system = \"\"\"\n",
    "Identify every notable person in the image the user provides. Your response should only contain the names of the people in order from left to right based on their relative positions in the image.\n",
    "\"\"\"\n",
    "\n",
    "model_list = [\n",
    "    {\"GPT-4.1\": \"openai/gpt-4.1\"},\n",
    "    {\"Claude Sonnet 4\": \"anthropic/claude-sonnet-4\"},\n",
    "    {\"Gemini 2.5 Flash\": \"google/gemini-2.5-flash\"},\n",
    "    # {\"Grok 4\": \"x-ai/grok-4\"},  # not liking image input\n",
    "    {\"Llama 4 Scout\": \"meta-llama/llama-4-scout\"},\n",
    "    {\"Mistral Small 3.2\": \"mistralai/mistral-small-3.2-24b-instruct\"},\n",
    "    {\"Qwen 2.5-VL\": \"qwen/qwen2.5-vl-72b-instruct\"},\n",
    "    # {\"MiniMax - 01\": \"minimax/minimax-01\"},\n",
    "    # {\"GLM 4.1V\": \"thudm/glm-4.1v-9b-thinking\"},  # not liking image input\n",
    "    # {\"Amazon Nova Pro\": \"amazon/nova-pro-v1\"},\n",
    "]"
   ]
  },
  {
   "cell_type": "code",
   "execution_count": 51,
   "metadata": {},
   "outputs": [],
   "source": [
    "async def query_image_async(model_kv, client, system, img_base64_str):\n",
    "    model_name, model_openrouter = list(model_kv.items())[0]\n",
    "    params = {\n",
    "        \"model\": model_openrouter,\n",
    "        \"messages\": [\n",
    "            {\"role\": \"system\", \"content\": system.strip()},\n",
    "            {\n",
    "                \"role\": \"user\",\n",
    "                \"content\": [\n",
    "                    {\n",
    "                        \"type\": \"image_url\",\n",
    "                        \"image_url\": {\"url\": f\"data:image/png;base64,{img_base64_str}\"},\n",
    "                    }\n",
    "                ],\n",
    "            },\n",
    "        ],\n",
    "        # specifying provider is needed to ensure nonquantized models\n",
    "        \"provider\": {\n",
    "            \"order\": [\"novita\", \"openai\", \"anthropic\", \"mistral\", \"google-ai-studio\"],\n",
    "            \"allow_fallbacks\": False,\n",
    "        },\n",
    "        \"temperature\": 0.0,  # for reproducibility (given same provider)\n",
    "        \"seed\": 42,  # for reproducibility (given same provider)\n",
    "        \"max_tokens\": 1000,  # for sanity\n",
    "    }\n",
    "\n",
    "    r = await client.post(\n",
    "        url=API_URL, headers=headers, data=orjson.dumps(params), timeout=60.0\n",
    "    )\n",
    "    try:\n",
    "        return {\n",
    "            \"model\": model_name,\n",
    "            \"response\": r.json()[\"choices\"][0][\"message\"][\"content\"],\n",
    "        }\n",
    "    except Exception as e:\n",
    "        print(r.json())\n",
    "        return {\n",
    "            \"model\": model_name,\n",
    "            \"response\": \"<ERROR>\",\n",
    "        }\n",
    "\n",
    "\n",
    "async def query_models_async(model_list, client, system, img_base64_str):\n",
    "    queries = [\n",
    "        query_image_async(model, client, system, img_base64_str) for model in model_list\n",
    "    ]\n",
    "\n",
    "    results = await asyncio.gather(*queries)\n",
    "    return results"
   ]
  },
  {
   "cell_type": "code",
   "execution_count": 43,
   "metadata": {},
   "outputs": [
    {
     "name": "stdout",
     "output_type": "stream",
     "text": [
      "| model            | response                                                                                                                                                                                                                            |\n",
      "|------------------|-------------------------------------------------------------------------------------------------------------------------------------------------------------------------------------------------------------------------------------|\n",
      "| GPT-4.1          | Sorry, I can't help with that.                                                                                                                                                                                                      |\n",
      "| Claude Sonnet 4  | I can see a person speaking in what appears to be a library or bookstore setting, with an audience seated and listening. However, I cannot identify who the specific individuals are in this image based on their appearance alone. |\n",
      "| Gemini 2.5 Flash | Barack Obama                                                                                                                                                                                                                        |\n",
      "| Llama 4 Scout    | Barack Obama                                                                                                                                                                                                                        |\n",
      "| Mistral 3.2      | Barack Obama                                                                                                                                                                                                                        |\n",
      "| Qwen 2.5-VL      | Barack Obama                                                                                                                                                                                                                        |\n"
     ]
    }
   ],
   "source": [
    "client = httpx.AsyncClient()\n",
    "\n",
    "results = await query_models_async(model_list, client, system, img_base64_str)\n",
    "\n",
    "with pl.Config() as cfg:\n",
    "    cfg.set_tbl_formatting(\"ASCII_MARKDOWN\")\n",
    "    cfg.set_fmt_str_lengths(10**5)\n",
    "    cfg.set_tbl_width_chars(-1)\n",
    "    cfg.set_tbl_hide_column_data_types(True)\n",
    "    cfg.set_tbl_hide_dataframe_shape(True)\n",
    "\n",
    "    print(pl.from_dicts(results))"
   ]
  },
  {
   "cell_type": "markdown",
   "metadata": {},
   "source": [
    "Functionalize to test more images.\n"
   ]
  },
  {
   "cell_type": "code",
   "execution_count": 52,
   "metadata": {},
   "outputs": [],
   "source": [
    "async def test_llms(img_path):\n",
    "    img = Image.open(img_path)\n",
    "    img = img_to_base64_str(img)\n",
    "\n",
    "    results = await query_models_async(model_list, client, system, img)\n",
    "\n",
    "    with pl.Config() as cfg:\n",
    "        cfg.set_tbl_formatting(\"ASCII_MARKDOWN\")\n",
    "        cfg.set_fmt_str_lengths(10**5)\n",
    "        cfg.set_tbl_width_chars(-1)\n",
    "        cfg.set_tbl_hide_column_data_types(True)\n",
    "        cfg.set_tbl_hide_dataframe_shape(True)\n",
    "\n",
    "        print(pl.from_dicts(results))"
   ]
  },
  {
   "cell_type": "markdown",
   "metadata": {},
   "source": [
    "Priscilla Chan and Mark Zuckerberg: https://openverse.org/image/622d49f2-5a3b-417c-b044-180589557688?q=mark+zuckerberg&p=8\n"
   ]
  },
  {
   "cell_type": "code",
   "execution_count": 56,
   "metadata": {},
   "outputs": [
    {
     "name": "stdout",
     "output_type": "stream",
     "text": [
      "| model            | response                                                                                                                                                                                                                                       |\n",
      "|------------------|------------------------------------------------------------------------------------------------------------------------------------------------------------------------------------------------------------------------------------------------|\n",
      "| GPT-4.1          | Sorry, I can't help with that.                                                                                                                                                                                                                 |\n",
      "| Claude Sonnet 4  | I can see two people walking together in the foreground of this street scene, but I cannot identify who they are based on their appearance. The image shows them walking on a cobblestone street with historic architecture in the background. |\n",
      "| Gemini 2.5 Flash | Priscilla Chan, Mark Zuckerberg                                                                                                                                                                                                                |\n",
      "| Llama 4 Scout    | Mark Zuckerberg, Priscilla Chan                                                                                                                                                                                                                |\n",
      "| Mistral 3.2      | Sheryl Sandberg, Mark Zuckerberg                                                                                                                                                                                                               |\n",
      "| Qwen 2.5-VL      | Priscilla Chan Mark Zuckerberg                                                                                                                                                                                                                 |\n"
     ]
    }
   ],
   "source": [
    "await test_llms(\"8827232234_bfeab50afb_b.jpg\")"
   ]
  },
  {
   "cell_type": "code",
   "execution_count": 54,
   "metadata": {},
   "outputs": [
    {
     "name": "stdout",
     "output_type": "stream",
     "text": [
      "| model            | response                                                                                                                                                                                                         |\n",
      "|------------------|------------------------------------------------------------------------------------------------------------------------------------------------------------------------------------------------------------------|\n",
      "| GPT-4.1          | Sorry, I can't identify this person.                                                                                                                                                                             |\n",
      "| Claude Sonnet 4  | I can see one person in this image - a young man wearing a gray North Face jacket with autumn foliage in the background. However, I cannot identify who this specific person is based on their appearance alone. |\n",
      "| Gemini 2.5 Flash | There are no notable people present in this image.                                                                                                                                                               |\n",
      "| Llama 4 Scout    | No notable people were identified in the image.                                                                                                                                                                  |\n",
      "| Mistral 3.2      | I'm sorry, I can't identify people in images.                                                                                                                                                                    |\n",
      "| Qwen 2.5-VL      | No notable people identified.                                                                                                                                                                                    |\n"
     ]
    }
   ],
   "source": [
    "await test_llms(\"profpic.webp\")"
   ]
  },
  {
   "cell_type": "markdown",
   "metadata": {},
   "source": [
    "Fantastic Four poster: https://press.disney.co.uk/news/marvel-studios-the-fantastic-four-first-steps-all-new-trailer-&-poster-now-available\n"
   ]
  },
  {
   "cell_type": "code",
   "execution_count": 59,
   "metadata": {},
   "outputs": [
    {
     "name": "stdout",
     "output_type": "stream",
     "text": [
      "| model            | response                                                                                                                                                                                                                                                                                                                                         |\n",
      "|------------------|--------------------------------------------------------------------------------------------------------------------------------------------------------------------------------------------------------------------------------------------------------------------------------------------------------------------------------------------------|\n",
      "| GPT-4.1          | Sorry, I can't help with that.                                                                                                                                                                                                                                                                                                                   |\n",
      "| Claude Sonnet 4  | I can see this is a promotional image for \"The Fantastic Four: First Steps\" movie, but I cannot identify the specific actors in the image based on their appearance alone. The image shows four people in blue Fantastic Four uniforms positioned in what appears to be a modern living space with a city skyline visible through large windows. |\n",
      "| Gemini 2.5 Flash | Vanessa Kirby, Pedro Pascal, Joseph Quinn, Ebon Moss-Bachrach                                                                                                                                                                                                                                                                                    |\n",
      "| Llama 4 Scout    | The image does not provide enough information to identify the people in the image. However, based on the context of the image, which appears to be a promotional poster for the movie \"The Fantastic 4,\" the notable people in the image are likely:                                                                                             |\n",
      "|                  |                                                                                                                                                                                                                                                                                                                                                  |\n",
      "|                  | 1. Jessica Alba                                                                                                                                                                                                                                                                                                                                  |\n",
      "|                  | 2. Chris Evans                                                                                                                                                                                                                                                                                                                                   |\n",
      "|                  | 3. Ioan Gruffudd                                                                                                                                                                                                                                                                                                                                 |\n",
      "|                  | 4. Michael Chabon                                                                                                                                                                                                                                                                                                                                |\n",
      "|                  |                                                                                                                                                                                                                                                                                                                                                  |\n",
      "|                  | However, without more information or context about the specific individuals depicted in the image, it is difficult to provide a more accurate answer.                                                                                                                                                                                            |\n",
      "| Mistral 3.2      | From left to right, the notable people in the image are:                                                                                                                                                                                                                                                                                         |\n",
      "|                  |                                                                                                                                                                                                                                                                                                                                                  |\n",
      "|                  | 1. Kate Mara (as Sue Storm / Invisible Woman)                                                                                                                                                                                                                                                                                                    |\n",
      "|                  | 2. Miles Teller (as Reed Richards / Mr. Fantastic)                                                                                                                                                                                                                                                                                               |\n",
      "|                  | 3. Michael B. Jordan (as Johnny Storm / Human Torch)                                                                                                                                                                                                                                                                                             |\n",
      "|                  | 4. Jessica Alba (as Susan Storm)                                                                                                                                                                                                                                                                                                                 |\n",
      "|                  | 5. John Krasinski (as Dr. Reed Richards)                                                                                                                                                                                                                                                                                                         |\n",
      "| Qwen 2.5-VL      | Sue Storm Reed Richards Ben Grimm Johnny Storm                                                                                                                                                                                                                                                                                                   |\n"
     ]
    }
   ],
   "source": [
    "await test_llms(\"12_blue_teaser2_4x5_ig_2609a9ad.jpeg\")"
   ]
  },
  {
   "cell_type": "code",
   "execution_count": null,
   "metadata": {},
   "outputs": [],
   "source": []
  }
 ],
 "metadata": {
  "kernelspec": {
   "display_name": "llm-person-identification",
   "language": "python",
   "name": "python3"
  },
  "language_info": {
   "codemirror_mode": {
    "name": "ipython",
    "version": 3
   },
   "file_extension": ".py",
   "mimetype": "text/x-python",
   "name": "python",
   "nbconvert_exporter": "python",
   "pygments_lexer": "ipython3",
   "version": "3.13.1"
  },
  "orig_nbformat": 4
 },
 "nbformat": 4,
 "nbformat_minor": 2
}
