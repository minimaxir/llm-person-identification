{
 "cells": [
  {
   "cell_type": "code",
   "execution_count": 1,
   "metadata": {},
   "outputs": [
    {
     "data": {
      "text/plain": [
       "True"
      ]
     },
     "execution_count": 1,
     "metadata": {},
     "output_type": "execute_result"
    }
   ],
   "source": [
    "import base64\n",
    "import os\n",
    "import re\n",
    "from io import BytesIO\n",
    "\n",
    "import orjson\n",
    "import requests\n",
    "from dotenv import load_dotenv\n",
    "from PIL import Image\n",
    "\n",
    "load_dotenv()"
   ]
  },
  {
   "cell_type": "code",
   "execution_count": null,
   "metadata": {},
   "outputs": [],
   "source": [
    "assert os.getenv(\"OPENROUTER_API_KEY\"), \"OpenRouter API key is not defined in .env.\"\n",
    "model = \"google/gemini-2.5-flash-preview-05-20\"\n",
    "\n",
    "\n",
    "API_URL = \"https://openrouter.ai/api/v1/chat/completions\"\n",
    "\n",
    "headers = {\n",
    "    \"Authorization\": f\"Bearer {os.getenv('OPENROUTER_API_KEY')}\",\n",
    "    \"Content-Type\": \"application/json\",\n",
    "}"
   ]
  },
  {
   "cell_type": "code",
   "execution_count": 20,
   "metadata": {},
   "outputs": [],
   "source": [
    "system = \"Respond in only one (1) paragraph.\"\n",
    "prompt = \"What is love?\"\n",
    "\n",
    "params = {\n",
    "    \"model\": model,\n",
    "    # \"model\": \"openai/gpt-4o\",\n",
    "    \"messages\": [\n",
    "        {\"role\": \"system\", \"content\": system},\n",
    "        {\"role\": \"user\", \"content\": prompt},\n",
    "    ],\n",
    "}\n",
    "\n",
    "r = requests.post(url=API_URL, headers=headers, data=orjson.dumps(params))"
   ]
  },
  {
   "cell_type": "code",
   "execution_count": 21,
   "metadata": {},
   "outputs": [
    {
     "name": "stdout",
     "output_type": "stream",
     "text": [
      "{\n",
      "  \"id\": \"gen-1751764716-EjjmcBUaSz2CFE4SUnPy\",\n",
      "  \"provider\": \"Google\",\n",
      "  \"model\": \"google/gemini-2.5-flash-preview-05-20\",\n",
      "  \"object\": \"chat.completion\",\n",
      "  \"created\": 1751764716,\n",
      "  \"choices\": [\n",
      "    {\n",
      "      \"logprobs\": null,\n",
      "      \"finish_reason\": \"stop\",\n",
      "      \"native_finish_reason\": \"STOP\",\n",
      "      \"index\": 0,\n",
      "      \"message\": {\n",
      "        \"role\": \"assistant\",\n",
      "        \"content\": \"Love is a multifaceted and profound human experience encompassing a wide range of emotions, from deep affection and passionate desire to compassionate concern and unwavering devotion. It manifests in various forms, from the intense bond between romantic partners and the nurturing connection between family members to the strong camaraderie among friends and the expansive empathy for humanity as a whole. Ultimately, love is a complex interplay of emotional, cognitive, and behavioral elements, characterized by a desire for connection, a willingness to sacrifice, and a profound sense of commitment and care for another's well-being.\",\n",
      "        \"refusal\": null,\n",
      "        \"reasoning\": null\n",
      "      }\n",
      "    }\n",
      "  ],\n",
      "  \"usage\": {\n",
      "    \"prompt_tokens\": 13,\n",
      "    \"completion_tokens\": 108,\n",
      "    \"total_tokens\": 121\n",
      "  }\n",
      "}\n"
     ]
    }
   ],
   "source": [
    "print(orjson.dumps(r.json(), option=orjson.OPT_INDENT_2).decode(\"utf-8\"))"
   ]
  },
  {
   "cell_type": "markdown",
   "metadata": {},
   "source": [
    "Test image inputs using local b64.\n"
   ]
  },
  {
   "cell_type": "code",
   "execution_count": 23,
   "metadata": {},
   "outputs": [],
   "source": [
    "img = Image.open(\"profpic.webp\")\n",
    "# img.resize((256, 256))"
   ]
  },
  {
   "cell_type": "code",
   "execution_count": 24,
   "metadata": {},
   "outputs": [
    {
     "data": {
      "text/plain": [
       "'UklGRtquAQBXRUJQVlA4IM6uAQCQzwWdASoAAwADPm0ukkYkIqGkrNOc2JANiU2g80KZLIGyOQCJZH0YcEVbrm77N0D7Lus5i33v'"
      ]
     },
     "execution_count": 24,
     "metadata": {},
     "output_type": "execute_result"
    }
   ],
   "source": [
    "buffered = BytesIO()\n",
    "img.resize((768, 768)).save(buffered, format=\"WEBP\")\n",
    "img_base64 = base64.b64encode(buffered.getvalue())\n",
    "img_base64_str = img_base64.decode(\"utf-8\")\n",
    "\n",
    "img_base64_str[0:100]"
   ]
  },
  {
   "cell_type": "code",
   "execution_count": 29,
   "metadata": {},
   "outputs": [],
   "source": [
    "system = \"Describe the image the user provides.\"\n",
    "\n",
    "params = {\n",
    "    \"model\": model,\n",
    "    # \"model\": \"openai/gpt-4o\",\n",
    "    \"messages\": [\n",
    "        {\"role\": \"system\", \"content\": system},\n",
    "        {\n",
    "            \"role\": \"user\",\n",
    "            \"content\": [\n",
    "                {\n",
    "                    \"type\": \"image_url\",\n",
    "                    \"image_url\": {\"url\": f\"data:image/webp;base64,{img_base64_str}\"},\n",
    "                }\n",
    "            ],\n",
    "        },\n",
    "    ],\n",
    "}\n",
    "\n",
    "r = requests.post(url=API_URL, headers=headers, data=orjson.dumps(params))"
   ]
  },
  {
   "cell_type": "code",
   "execution_count": 30,
   "metadata": {},
   "outputs": [
    {
     "name": "stdout",
     "output_type": "stream",
     "text": [
      "{\n",
      "  \"id\": \"gen-1751765529-mSycWwByY2vWkLB9c8IM\",\n",
      "  \"provider\": \"Google AI Studio\",\n",
      "  \"model\": \"google/gemini-2.5-flash-preview-05-20\",\n",
      "  \"object\": \"chat.completion\",\n",
      "  \"created\": 1751765529,\n",
      "  \"choices\": [\n",
      "    {\n",
      "      \"logprobs\": null,\n",
      "      \"finish_reason\": \"stop\",\n",
      "      \"native_finish_reason\": \"STOP\",\n",
      "      \"index\": 0,\n",
      "      \"message\": {\n",
      "        \"role\": \"assistant\",\n",
      "        \"content\": \"A light-skinned man with dark hair, cropped short, and neatly styled, is captured in a headshot against a vibrant backdrop of autumn foliage. He is looking directly at the camera, with a gentle smile gracing his lips, revealing a neat row of teeth. His light eyes are open, with a calm expression.\\n\\nHe is wearing a charcoal-gray fleece jacket with a zipper that extends to his neck, under which a bright blue collared shirt is visible. On his right side, toward the bottom, the white logo of \\\"The North Face\\\" is subtly visible on his fleece.\\n\\nThe background bursts with color, featuring numerous red, orange, and yellow leaves that are typical of fall. Behind these leaves, hints of a dark fence or railing and possibly some dark-green foliage can be discerned, adding depth to the scene. The lighting appears soft and natural, possibly indicating an outdoor setting during a pleasant day.\",\n",
      "        \"refusal\": null,\n",
      "        \"reasoning\": null\n",
      "      }\n",
      "    }\n",
      "  ],\n",
      "  \"usage\": {\n",
      "    \"prompt_tokens\": 267,\n",
      "    \"completion_tokens\": 187,\n",
      "    \"total_tokens\": 454\n",
      "  }\n",
      "}\n"
     ]
    }
   ],
   "source": [
    "print(orjson.dumps(r.json(), option=orjson.OPT_INDENT_2).decode(\"utf-8\"))"
   ]
  }
 ],
 "metadata": {
  "kernelspec": {
   "display_name": "llm-person-identification",
   "language": "python",
   "name": "python3"
  },
  "language_info": {
   "codemirror_mode": {
    "name": "ipython",
    "version": 3
   },
   "file_extension": ".py",
   "mimetype": "text/x-python",
   "name": "python",
   "nbconvert_exporter": "python",
   "pygments_lexer": "ipython3",
   "version": "3.13.1"
  },
  "orig_nbformat": 4
 },
 "nbformat": 4,
 "nbformat_minor": 2
}
