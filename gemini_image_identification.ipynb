{
 "cells": [
  {
   "cell_type": "code",
   "execution_count": 1,
   "metadata": {},
   "outputs": [
    {
     "data": {
      "text/plain": [
       "True"
      ]
     },
     "execution_count": 1,
     "metadata": {},
     "output_type": "execute_result"
    }
   ],
   "source": [
    "import asyncio\n",
    "import base64\n",
    "import os\n",
    "from io import BytesIO\n",
    "\n",
    "import httpx\n",
    "import orjson\n",
    "import polars as pl\n",
    "from dotenv import load_dotenv\n",
    "from PIL import Image\n",
    "\n",
    "load_dotenv()"
   ]
  },
  {
   "cell_type": "code",
   "execution_count": 2,
   "metadata": {},
   "outputs": [],
   "source": [
    "assert os.getenv(\"OPENROUTER_API_KEY\"), \"OpenRouter API key is not defined in .env.\"\n",
    "model = \"google/gemini-2.5-flash-lite-preview-06-17\"\n",
    "\n",
    "\n",
    "API_URL = \"https://openrouter.ai/api/v1/chat/completions\"\n",
    "\n",
    "headers = {\n",
    "    \"Authorization\": f\"Bearer {os.getenv('OPENROUTER_API_KEY')}\",\n",
    "    \"Content-Type\": \"application/json\",\n",
    "}"
   ]
  },
  {
   "cell_type": "code",
   "execution_count": 3,
   "metadata": {},
   "outputs": [],
   "source": [
    "system = \"Respond in only one (1) paragraph.\"\n",
    "prompt = \"What is love?\"\n",
    "\n",
    "params = {\n",
    "    \"model\": model,\n",
    "    # \"model\": \"openai/gpt-4o\",\n",
    "    \"messages\": [\n",
    "        {\"role\": \"system\", \"content\": system},\n",
    "        {\"role\": \"user\", \"content\": prompt},\n",
    "    ],\n",
    "}\n",
    "\n",
    "r = httpx.post(url=API_URL, headers=headers, data=orjson.dumps(params))"
   ]
  },
  {
   "cell_type": "code",
   "execution_count": 4,
   "metadata": {},
   "outputs": [
    {
     "name": "stdout",
     "output_type": "stream",
     "text": [
      "{\n",
      "  \"id\": \"gen-1752963521-01FnLY7trOckZhSXNY77\",\n",
      "  \"provider\": \"Google\",\n",
      "  \"model\": \"google/gemini-2.5-flash-lite-preview-06-17\",\n",
      "  \"object\": \"chat.completion\",\n",
      "  \"created\": 1752963521,\n",
      "  \"choices\": [\n",
      "    {\n",
      "      \"logprobs\": null,\n",
      "      \"finish_reason\": \"stop\",\n",
      "      \"native_finish_reason\": \"STOP\",\n",
      "      \"index\": 0,\n",
      "      \"message\": {\n",
      "        \"role\": \"assistant\",\n",
      "        \"content\": \"Love is a complex and multifaceted emotion characterized by deep affection, care, and connection towards another person, often involving a sense of intimacy, commitment, and desire for their well-being and happiness. It can manifest in various forms, from the passionate romance between partners to the unconditional bond of family, the steadfast loyalty of friendship, and even a broader empathy for humanity, all united by a powerful emotional investment and a willingness to prioritize the beloved's needs and happiness.\",\n",
      "        \"refusal\": null,\n",
      "        \"reasoning\": null\n",
      "      }\n",
      "    }\n",
      "  ],\n",
      "  \"usage\": {\n",
      "    \"prompt_tokens\": 13,\n",
      "    \"completion_tokens\": 93,\n",
      "    \"total_tokens\": 106\n",
      "  }\n",
      "}\n"
     ]
    }
   ],
   "source": [
    "print(orjson.dumps(r.json(), option=orjson.OPT_INDENT_2).decode(\"utf-8\"))"
   ]
  },
  {
   "cell_type": "markdown",
   "metadata": {},
   "source": [
    "Test image inputs using local b64.\n"
   ]
  },
  {
   "cell_type": "code",
   "execution_count": 5,
   "metadata": {},
   "outputs": [],
   "source": [
    "img = Image.open(\"profpic.webp\")\n",
    "# img.resize((256, 256))"
   ]
  },
  {
   "cell_type": "code",
   "execution_count": 6,
   "metadata": {},
   "outputs": [
    {
     "data": {
      "text/plain": [
       "'UklGRtquAQBXRUJQVlA4IM6uAQCQzwWdASoAAwADPm0ukkYkIqGkrNOc2JANiU2g80KZLIGyOQCJZH0YcEVbrm77N0D7Lus5i33v'"
      ]
     },
     "execution_count": 6,
     "metadata": {},
     "output_type": "execute_result"
    }
   ],
   "source": [
    "buffered = BytesIO()\n",
    "img.resize((768, 768)).save(buffered, format=\"WEBP\")\n",
    "img_base64 = base64.b64encode(buffered.getvalue())\n",
    "img_base64_str = img_base64.decode(\"utf-8\")\n",
    "\n",
    "img_base64_str[0:100]"
   ]
  },
  {
   "cell_type": "code",
   "execution_count": 7,
   "metadata": {},
   "outputs": [],
   "source": [
    "system = \"Describe the image the user provides in no more than two (2) sentences.\"\n",
    "\n",
    "params = {\n",
    "    \"model\": model,\n",
    "    # \"model\": \"openai/gpt-4o\",\n",
    "    \"messages\": [\n",
    "        {\"role\": \"system\", \"content\": system},\n",
    "        {\n",
    "            \"role\": \"user\",\n",
    "            \"content\": [\n",
    "                {\n",
    "                    \"type\": \"image_url\",\n",
    "                    \"image_url\": {\"url\": f\"data:image/webp;base64,{img_base64_str}\"},\n",
    "                }\n",
    "            ],\n",
    "        },\n",
    "    ],\n",
    "}\n",
    "\n",
    "r = httpx.post(url=API_URL, headers=headers, data=orjson.dumps(params))"
   ]
  },
  {
   "cell_type": "code",
   "execution_count": 8,
   "metadata": {},
   "outputs": [
    {
     "name": "stdout",
     "output_type": "stream",
     "text": [
      "{\n",
      "  \"id\": \"gen-1752963523-SpSD8cSfmE2xxnztvYUL\",\n",
      "  \"provider\": \"Google AI Studio\",\n",
      "  \"model\": \"google/gemini-2.5-flash-lite-preview-06-17\",\n",
      "  \"object\": \"chat.completion\",\n",
      "  \"created\": 1752963523,\n",
      "  \"choices\": [\n",
      "    {\n",
      "      \"logprobs\": null,\n",
      "      \"finish_reason\": \"stop\",\n",
      "      \"native_finish_reason\": \"STOP\",\n",
      "      \"index\": 0,\n",
      "      \"message\": {\n",
      "        \"role\": \"assistant\",\n",
      "        \"content\": \"A young man with brown hair is smiling and looking at the camera. He is wearing a gray fleece jacket over a blue t-shirt. The background features a tree with vibrant orange leaves, suggesting it is autumn.\",\n",
      "        \"refusal\": null,\n",
      "        \"reasoning\": null\n",
      "      }\n",
      "    }\n",
      "  ],\n",
      "  \"usage\": {\n",
      "    \"prompt_tokens\": 276,\n",
      "    \"completion_tokens\": 44,\n",
      "    \"total_tokens\": 320\n",
      "  }\n",
      "}\n"
     ]
    }
   ],
   "source": [
    "print(orjson.dumps(r.json(), option=orjson.OPT_INDENT_2).decode(\"utf-8\"))"
   ]
  },
  {
   "cell_type": "markdown",
   "metadata": {},
   "source": [
    "## Use async to Parallelize Calls to Different Models.\n",
    "\n",
    "Define as a list of key-values where the key is the humanized form of the model for better reporting.\n"
   ]
  },
  {
   "cell_type": "code",
   "execution_count": 9,
   "metadata": {},
   "outputs": [],
   "source": [
    "model_list = [\n",
    "    {\"Gemini 2.5 Flash Lite\": \"google/gemini-2.5-flash-lite-preview-06-17\"},\n",
    "    {\"Claude Sonnet 4\": \"anthropic/claude-sonnet-4\"},\n",
    "    {\"GPT-4.1 Mini\": \"openai/gpt-4.1-mini\"},\n",
    "]"
   ]
  },
  {
   "cell_type": "code",
   "execution_count": 10,
   "metadata": {},
   "outputs": [],
   "source": [
    "async def query_image_async(model_kv, client, system, img_base64_str):\n",
    "    model_name, model_openrouter = list(model_kv.items())[0]\n",
    "    params = {\n",
    "        \"model\": model_openrouter,\n",
    "        \"messages\": [\n",
    "            {\"role\": \"system\", \"content\": system},\n",
    "            {\n",
    "                \"role\": \"user\",\n",
    "                \"content\": [\n",
    "                    {\n",
    "                        \"type\": \"image_url\",\n",
    "                        \"image_url\": {\n",
    "                            \"url\": f\"data:image/webp;base64,{img_base64_str}\"\n",
    "                        },\n",
    "                    }\n",
    "                ],\n",
    "            },\n",
    "        ],\n",
    "    }\n",
    "\n",
    "    r = await client.post(url=API_URL, headers=headers, data=orjson.dumps(params))\n",
    "    return {\n",
    "        \"model\": model_name,\n",
    "        \"response\": r.json()[\"choices\"][0][\"message\"][\"content\"],\n",
    "    }"
   ]
  },
  {
   "cell_type": "code",
   "execution_count": 11,
   "metadata": {},
   "outputs": [
    {
     "data": {
      "text/plain": [
       "{'model': 'Gemini 2.5 Flash Lite',\n",
       " 'response': 'A smiling man is captured in a close-up portrait, set against a vibrant backdrop of autumn foliage. He is wearing a gray fleece jacket over a blue shirt.'}"
      ]
     },
     "execution_count": 11,
     "metadata": {},
     "output_type": "execute_result"
    }
   ],
   "source": [
    "client = httpx.AsyncClient()\n",
    "await query_image_async(model_list[0], client, system, img_base64_str)"
   ]
  },
  {
   "cell_type": "markdown",
   "metadata": {},
   "source": [
    "Query the models simultaneously.\n",
    "\n",
    "NB: `asyncio.gather()` will preserve order of inputs: https://docs.python.org/3/library/asyncio-task.html#running-tasks-concurrently\n"
   ]
  },
  {
   "cell_type": "code",
   "execution_count": 12,
   "metadata": {},
   "outputs": [],
   "source": [
    "async def query_models_async(model_list, client, system, img_base64_str):\n",
    "    queries = [\n",
    "        query_image_async(model, client, system, img_base64_str) for model in model_list\n",
    "    ]\n",
    "\n",
    "    results = await asyncio.gather(*queries)\n",
    "    return results"
   ]
  },
  {
   "cell_type": "code",
   "execution_count": 13,
   "metadata": {},
   "outputs": [
    {
     "data": {
      "text/plain": [
       "[{'model': 'Gemini 2.5 Flash Lite',\n",
       "  'response': 'A young man smiles at the camera, with bright orange and red autumn leaves behind him. He is wearing a grey fleece jacket over a blue shirt.'},\n",
       " {'model': 'Claude Sonnet 4',\n",
       "  'response': \"The image shows a smiling young man with short brown hair wearing a gray North Face jacket over a blue shirt. He's positioned in front of vibrant autumn foliage displaying brilliant orange and red leaves, creating a beautiful fall backdrop.\"},\n",
       " {'model': 'GPT-4.1 Mini',\n",
       "  'response': 'The image shows a smiling man wearing a gray fleece jacket and a blue shirt, standing outdoors in front of a tree with vibrant orange leaves. The background also includes a chain-link fence.'}]"
      ]
     },
     "execution_count": 13,
     "metadata": {},
     "output_type": "execute_result"
    }
   ],
   "source": [
    "results = await query_models_async(model_list, client, system, img_base64_str)\n",
    "results"
   ]
  },
  {
   "cell_type": "code",
   "execution_count": 14,
   "metadata": {},
   "outputs": [
    {
     "name": "stdout",
     "output_type": "stream",
     "text": [
      "| model                 | response                                                                                                                                                                                                                                         |\n",
      "|-----------------------|--------------------------------------------------------------------------------------------------------------------------------------------------------------------------------------------------------------------------------------------------|\n",
      "| Gemini 2.5 Flash Lite | A young man smiles at the camera, with bright orange and red autumn leaves behind him. He is wearing a grey fleece jacket over a blue shirt.                                                                                                     |\n",
      "| Claude Sonnet 4       | The image shows a smiling young man with short brown hair wearing a gray North Face jacket over a blue shirt. He's positioned in front of vibrant autumn foliage displaying brilliant orange and red leaves, creating a beautiful fall backdrop. |\n",
      "| GPT-4.1 Mini          | The image shows a smiling man wearing a gray fleece jacket and a blue shirt, standing outdoors in front of a tree with vibrant orange leaves. The background also includes a chain-link fence.                                                   |\n"
     ]
    }
   ],
   "source": [
    "with pl.Config() as cfg:\n",
    "    cfg.set_tbl_formatting(\"ASCII_MARKDOWN\")\n",
    "    cfg.set_fmt_str_lengths(10**5)\n",
    "    cfg.set_tbl_width_chars(-1)\n",
    "    cfg.set_tbl_hide_column_data_types(True)\n",
    "    cfg.set_tbl_hide_dataframe_shape(True)\n",
    "\n",
    "    print(pl.from_dicts(results))"
   ]
  },
  {
   "cell_type": "code",
   "execution_count": null,
   "metadata": {},
   "outputs": [],
   "source": []
  }
 ],
 "metadata": {
  "kernelspec": {
   "display_name": "llm-person-identification",
   "language": "python",
   "name": "python3"
  },
  "language_info": {
   "codemirror_mode": {
    "name": "ipython",
    "version": 3
   },
   "file_extension": ".py",
   "mimetype": "text/x-python",
   "name": "python",
   "nbconvert_exporter": "python",
   "pygments_lexer": "ipython3",
   "version": "3.13.1"
  },
  "orig_nbformat": 4
 },
 "nbformat": 4,
 "nbformat_minor": 2
}
